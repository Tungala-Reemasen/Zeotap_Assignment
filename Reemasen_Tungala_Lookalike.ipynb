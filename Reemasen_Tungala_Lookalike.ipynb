{
  "nbformat": 4,
  "nbformat_minor": 0,
  "metadata": {
    "colab": {
      "provenance": []
    },
    "kernelspec": {
      "name": "python3",
      "display_name": "Python 3"
    },
    "language_info": {
      "name": "python"
    }
  },
  "cells": [
    {
      "cell_type": "code",
      "execution_count": 4,
      "metadata": {
        "colab": {
          "base_uri": "https://localhost:8080/"
        },
        "id": "1aBSeVGN7v5V",
        "outputId": "98ed74ea-ecba-4816-f696-b1be7a32f49c"
      },
      "outputs": [
        {
          "output_type": "stream",
          "name": "stdout",
          "text": [
            "Lookalike Model Completed. Recommendations saved to 'Reemasen_Tungala_Lookalike.csv'.\n"
          ]
        }
      ],
      "source": [
        "import pandas as pd\n",
        "from sklearn.metrics.pairwise import cosine_similarity\n",
        "from sklearn.preprocessing import StandardScaler\n",
        "\n",
        "# Load datasets\n",
        "customers_df = pd.read_csv('Customers.csv')\n",
        "products_df = pd.read_csv('Products.csv')\n",
        "transactions_df = pd.read_csv('Transactions.csv')\n",
        "\n",
        "# Merge datasets\n",
        "transactions_df['TransactionDate'] = pd.to_datetime(transactions_df['TransactionDate'])\n",
        "merged_data = transactions_df.merge(products_df, on='ProductID', how='left')\n",
        "merged_data = merged_data.merge(customers_df[['CustomerID', 'Region']], on='CustomerID', how='left')\n",
        "\n",
        "# Feature Engineering\n",
        "# 1. Total Spending, Number of Transactions, and Quantity per Customer\n",
        "customer_features = merged_data.groupby('CustomerID').agg({\n",
        "    'TotalValue': 'sum',  # Total spending\n",
        "    'TransactionID': 'count',  # Number of transactions\n",
        "    'Quantity': 'sum'  # Total quantity purchased\n",
        "}).rename(columns={'TransactionID': 'NumTransactions', 'TotalValue': 'TotalSpending'})\n",
        "\n",
        "# 2. Preferred Product Categories\n",
        "category_pivot = pd.pivot_table(\n",
        "    merged_data, values='Quantity', index='CustomerID', columns='Category', aggfunc='sum', fill_value=0\n",
        ")\n",
        "customer_features = customer_features.join(category_pivot)\n",
        "\n",
        "# 3. Encode Region\n",
        "region_encoded = pd.get_dummies(customers_df.set_index('CustomerID')['Region'])\n",
        "customer_features = customer_features.join(region_encoded)\n",
        "\n",
        "# Standardize features\n",
        "scaler = StandardScaler()\n",
        "scaled_features = scaler.fit_transform(customer_features)\n",
        "\n",
        "# Similarity Calculation\n",
        "similarity_matrix = cosine_similarity(scaled_features)\n",
        "\n",
        "# Build Recommendations\n",
        "customer_ids = customer_features.index.tolist()\n",
        "recommendations = {}\n",
        "\n",
        "for i, customer_id in enumerate(customer_ids):\n",
        "    # Get similarity scores for the customer\n",
        "    similarity_scores = list(enumerate(similarity_matrix[i]))\n",
        "    # Sort by score (highest first) and exclude the customer themselves\n",
        "    sorted_scores = sorted(similarity_scores, key=lambda x: x[1], reverse=True)[1:4]\n",
        "    # Save top 3 similar customers and their scores\n",
        "    recommendations[customer_id] = [(customer_ids[j], round(score, 4)) for j, score in sorted_scores]\n",
        "\n",
        "# Convert to DataFrame for Lookalike.csv\n",
        "recommendations_df = pd.DataFrame({\n",
        "    'CustomerID': recommendations.keys(),\n",
        "    'Recommendations': [str(value) for value in recommendations.values()]\n",
        "})\n",
        "\n",
        "# Save Lookalike.csv\n",
        "recommendations_df.to_csv('Reemasen_Tungala_Lookalike.csv', index=False)\n",
        "\n",
        "print(\"Lookalike Model Completed. Recommendations saved to 'Reemasen_Tungala_Lookalike.csv'.\")\n"
      ]
    }
  ]
}